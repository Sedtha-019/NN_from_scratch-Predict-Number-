{
 "cells": [
  {
   "cell_type": "code",
   "execution_count": 1,
   "metadata": {},
   "outputs": [],
   "source": [
    "\n",
    "# This section initializes the parameters for the neural network\n",
    "# w_1, w_2, w_3 are the weights for each layer\n",
    "# b_1, b_2, b_3 are the biases for each layer\n",
    "import numpy as np\n",
    "import matplotlib.pyplot as plt\n",
    "import random"
   ]
  },
  {
   "cell_type": "code",
   "execution_count": 2,
   "metadata": {},
   "outputs": [],
   "source": [
    "\n",
    "# This section initializes the parameters for the neural network\n",
    "# w_1, w_2, w_3 are the weights for each layer\n",
    "# b_1, b_2, b_3 are the biases for each layer\n",
    "X_tr = np.loadtxt('train_X.csv', delimiter=',').T\n",
    "Y_tr = np.loadtxt('train_label.csv', delimiter=',').T"
   ]
  },
  {
   "cell_type": "code",
   "execution_count": 3,
   "metadata": {},
   "outputs": [],
   "source": [
    "\n",
    "# This section initializes the parameters for the neural network\n",
    "# w_1, w_2, w_3 are the weights for each layer\n",
    "# b_1, b_2, b_3 are the biases for each layer\n",
    "X_te = np.loadtxt('test_X.csv', delimiter=',').T\n",
    "Y_te = np.loadtxt('test_label.csv', delimiter=',').T"
   ]
  },
  {
   "cell_type": "code",
   "execution_count": 4,
   "metadata": {},
   "outputs": [
    {
     "data": {
      "text/plain": [
       "((784, 1000), (10, 1000), (784, 350), (10, 350))"
      ]
     },
     "execution_count": 4,
     "metadata": {},
     "output_type": "execute_result"
    }
   ],
   "source": [
    "\n",
    "# This section initializes the parameters for the neural network\n",
    "# w_1, w_2, w_3 are the weights for each layer\n",
    "# b_1, b_2, b_3 are the biases for each layer\n",
    "X_tr.shape, Y_tr.shape, X_te.shape, Y_te.shape"
   ]
  },
  {
   "cell_type": "code",
   "execution_count": 5,
   "metadata": {},
   "outputs": [
    {
     "data": {
      "image/png": "[encoded data removed]",
      "text/plain": [
       "<Figure size 640x480 with 1 Axes>"
      ]
     },
     "metadata": {},
     "output_type": "display_data"
    }
   ],
   "source": [
    "\n",
    "# This section initializes the parameters for the neural network\n",
    "# w_1, w_2, w_3 are the weights for each layer\n",
    "# b_1, b_2, b_3 are the biases for each layer\n",
    "index = random.randrange(0,X_tr.shape[1])\n",
    "plt.imshow(X_tr[:,index].reshape(28,28), cmap='gray')\n",
    "plt.show()"
   ]
  },
  {
   "cell_type": "code",
   "execution_count": 6,
   "metadata": {},
   "outputs": [],
   "source": [
    "\n",
    "# This section initializes the parameters for the neural network\n",
    "# w_1, w_2, w_3 are the weights for each layer\n",
    "# b_1, b_2, b_3 are the biases for each layer\n",
    "\n",
    "def Softmax(x):\n",
    "    e_x = np.exp(x)\n",
    "    return e_x/np.sum(e_x, axis = 0)\n",
    "\n",
    "def tanh(x):\n",
    "    return np.tanh(x)\n",
    "\n",
    "def ReLu(x):\n",
    "    return np.maximum(x,0)\n",
    "\n",
    "def dev_tanh(x):\n",
    "    return (1 - np.power(np.tanh(x),2))\n",
    "\n",
    "def dev_ReLu(x):\n",
    "    return np.array(x>0, dtype=np.float32)"
   ]
  },
  {
   "cell_type": "code",
   "execution_count": 7,
   "metadata": {},
   "outputs": [],
   "source": [
    "\n",
    "# This section initializes the parameters for the neural network\n",
    "# w_1, w_2, w_3 are the weights for each layer\n",
    "# b_1, b_2, b_3 are the biases for each layer\n",
    "import numpy as np\n",
    "\n",
    "def Initial_parameter(In_l, hl_1, hl_2, Out_l):\n",
    "    w_1 = np.random.randn(hl_1, In_l) * 0.01\n",
    "    b_1 = np.zeros((hl_1, 1))\n",
    "\n",
    "    w_2 = np.random.randn(hl_2, hl_1) * 0.01\n",
    "    b_2 = np.zeros((hl_2, 1))\n",
    "\n",
    "    w_3 = np.random.randn(Out_l, hl_2) * 0.01\n",
    "    b_3 = np.zeros((Out_l, 1))\n",
    "\n",
    "    paramet = {\"w_1\": w_1, \"w_2\": w_2, \"w_3\": w_3,\n",
    "               \"b_1\": b_1, \"b_2\": b_2, \"b_3\": b_3}\n",
    "    return paramet\n",
    "\n",
    "def tanh(z):\n",
    "    return np.tanh(z)\n",
    "\n",
    "def softmax(z):\n",
    "    exp_z = np.exp(z - np.max(z))\n",
    "    return exp_z / exp_z.sum(axis=0, keepdims=True)\n",
    "\n",
    "def dev_tanh(z):\n",
    "    return 1 - np.tanh(z)**2\n",
    "\n",
    "\n",
    "# This section performs forward propagation through the network\n",
    "# z_1, z_2, z_3 are the linear combinations of inputs and weights\n",
    "# a_1, a_2, a_3 are the activations after applying the activation functions\n",
    "def forward_propagation(x, paramet):\n",
    "    w_1 = paramet['w_1']\n",
    "    w_2 = paramet['w_2']\n",
    "    w_3 = paramet['w_3']\n",
    "    b_1 = paramet['b_1']\n",
    "    b_2 = paramet['b_2']\n",
    "    b_3 = paramet['b_3']\n",
    "\n",
    "    z_1 = np.dot(w_1, x) + b_1\n",
    "    a_1 = tanh(z_1)\n",
    "\n",
    "    z_2 = np.dot(w_2, a_1) + b_2\n",
    "    a_2 = tanh(z_2)\n",
    "\n",
    "    z_3 = np.dot(w_3, a_2) + b_3\n",
    "    a_3 = softmax(z_3)\n",
    "\n",
    "    forward = {'z_1': z_1, 'z_2': z_2, 'z_3': z_3,\n",
    "               'a_1': a_1, 'a_2': a_2, 'a_3': a_3}\n",
    "    return forward\n",
    "\n",
    "\n",
    "# This function calculates the cost using cross-entropy loss\n",
    "def Cost_fun(a_3, y):\n",
    "    Out_n = y.shape[1]\n",
    "    cost = -(1 / Out_n) * np.sum(y * np.log(a_3))\n",
    "    return cost\n",
    "\n",
    "\n",
    "# This section performs backward propagation to calculate the gradients\n",
    "# dz_1, dz_2, dz_3 are the gradients of the cost with respect to z_1, z_2, z_3\n",
    "# dw_1, dw_2, dw_3 are the gradients of the cost with respect to the weights\n",
    "# db_1, db_2, db_3 are the gradients of the cost with respect to the biases\n",
    "def backward_propagation(x, y, paramet, forward):\n",
    "    w_1 = paramet['w_1']\n",
    "    w_2 = paramet['w_2']\n",
    "    w_3 = paramet['w_3']\n",
    "    b_1 = paramet['b_1']\n",
    "    b_2 = paramet['b_2']\n",
    "    b_3 = paramet['b_3']\n",
    "\n",
    "    a_1 = forward['a_1']\n",
    "    a_2 = forward['a_2']\n",
    "    a_3 = forward['a_3']\n",
    "\n",
    "    Out_n = x.shape[1]\n",
    "\n",
    "    dz_3 = a_3 - y\n",
    "    dw_3 = (1 / Out_n) * np.dot(dz_3, a_2.T)\n",
    "    db_3 = (1 / Out_n) * np.sum(dz_3, axis=1, keepdims=True)\n",
    "\n",
    "    dz_2 = np.dot(w_3.T, dz_3) * dev_tanh(a_2)\n",
    "    dw_2 = (1 / Out_n) * np.dot(dz_2, a_1.T)\n",
    "    db_2 = (1 / Out_n) * np.sum(dz_2, axis=1, keepdims=True)\n",
    "\n",
    "    dz_1 = np.dot(w_2.T, dz_2) * dev_tanh(a_1)\n",
    "    dw_1 = (1 / Out_n) * np.dot(dz_1, x.T)\n",
    "    db_1 = (1 / Out_n) * np.sum(dz_1, axis=1, keepdims=True)\n",
    "\n",
    "    gradient = {'dw_1': dw_1, 'dw_2': dw_2, 'dw_3': dw_3,\n",
    "                'db_1': db_1, 'db_2': db_2, 'db_3': db_3}\n",
    "    return gradient\n",
    "\n",
    "\n",
    "# This function updates the parameters using the calculated gradients and learning rate\n",
    "def update_paramet(paramet, gradient, lr):\n",
    "    w_1 = paramet['w_1']\n",
    "    b_1 = paramet['b_1']\n",
    "    w_2 = paramet['w_2']\n",
    "    b_2 = paramet['b_2']\n",
    "    w_3 = paramet['w_3']\n",
    "    b_3 = paramet['b_3']\n",
    "\n",
    "    dw_1 = gradient['dw_1']\n",
    "    db_1 = gradient['db_1']\n",
    "    dw_2 = gradient['dw_2']\n",
    "    db_2 = gradient['db_2']\n",
    "    dw_3 = gradient['dw_3']\n",
    "    db_3 = gradient['db_3']\n",
    "\n",
    "    w_1 -= lr * dw_1\n",
    "    b_1 -= lr * db_1\n",
    "    w_2 -= lr * dw_2\n",
    "    b_2 -= lr * db_2\n",
    "    w_3 -= lr * dw_3\n",
    "    b_3 -= lr * db_3\n",
    "\n",
    "    parameters = {\"w_1\": w_1, \"b_1\": b_1, \"w_2\": w_2, \"b_2\": b_2,\n",
    "                  \"w_3\": w_3, \"b_3\": b_3}\n",
    "    return parameters\n",
    "\n",
    "\n",
    "# This is the main model function that trains the neural network\n",
    "# It initializes parameters, performs forward and backward propagation, updates parameters, and tracks the cost\n",
    "def model(x, y, hl_1, hl_2, lr, interation):\n",
    "    n_x = x.shape[0]\n",
    "    n_y = y.shape[0]\n",
    "\n",
    "    cost_list = []\n",
    "    paramet = Initial_parameter(n_x, hl_1, hl_2, n_y)\n",
    "\n",
    "    for i in range(interation):\n",
    "        forward = forward_propagation(x, paramet)\n",
    "        cost = Cost_fun(forward['a_3'], y)\n",
    "        gradient = backward_propagation(x, y, paramet, forward)\n",
    "        paramet = update_paramet(paramet, gradient, lr)\n",
    "        cost_list.append(cost)\n",
    "\n",
    "        if i % (interation / 10) == 0:\n",
    "            print(\"Cost function at iteration\", i, \":\", cost)\n",
    "\n",
    "    return paramet, cost_list\n"
   ]
  },
  {
   "cell_type": "code",
   "execution_count": 8,
   "metadata": {},
   "outputs": [
    {
     "name": "stdout",
     "output_type": "stream",
     "text": [
      "Cost function at iteration 0 : 2.3008145722970066\n",
      "Cost function at iteration 100 : 0.14477557723804296\n",
      "Cost function at iteration 200 : 0.038032533050663044\n",
      "Cost function at iteration 300 : 0.01618872799072139\n",
      "Cost function at iteration 400 : 0.009508740737849955\n",
      "Cost function at iteration 500 : 0.0065615835796440135\n",
      "Cost function at iteration 600 : 0.004961147164777054\n",
      "Cost function at iteration 700 : 0.003942700676741409\n",
      "Cost function at iteration 800 : 0.003237226322031426\n",
      "Cost function at iteration 900 : 0.002756127054620829\n"
     ]
    }
   ],
   "source": [
    "\n",
    "# This section initializes the parameters for the neural network\n",
    "# w_1, w_2, w_3 are the weights for each layer\n",
    "# b_1, b_2, b_3 are the biases for each layer\n",
    "inter = 1000\n",
    "hl_1 = 500\n",
    "hl_2 = 200\n",
    "lr = 0.1\n",
    "paramet, cost_list = model(X_tr, Y_tr,hl_1, hl_2,lr,inter)"
   ]
  },
  {
   "cell_type": "code",
   "execution_count": 9,
   "metadata": {},
   "outputs": [
    {
     "data": {
      "image/png": "[encoded data removed]",
      "text/plain": [
       "<Figure size 640x480 with 1 Axes>"
      ]
     },
     "metadata": {},
     "output_type": "display_data"
    }
   ],
   "source": [
    "\n",
    "# This section initializes the parameters for the neural network\n",
    "# w_1, w_2, w_3 are the weights for each layer\n",
    "# b_1, b_2, b_3 are the biases for each layer\n",
    "\n",
    "plt.plot(np.arange(0, inter), cost_list)\n",
    "plt.show()"
   ]
  },
  {
   "cell_type": "code",
   "execution_count": 10,
   "metadata": {},
   "outputs": [],
   "source": [
    "\n",
    "# This section initializes the parameters for the neural network\n",
    "# w_1, w_2, w_3 are the weights for each layer\n",
    "# b_1, b_2, b_3 are the biases for each layer\n",
    "def Accuaracy(inp, labels, paramet):\n",
    "    forward = forward_propagation(inp,paramet)\n",
    "    a_out = forward['a_3']\n",
    "\n",
    "    a_out = np.argmax(a_out,0)\n",
    "    labels = np.argmax(labels, 0)\n",
    "    accuracy = np.mean(a_out==labels)*100\n",
    "    return accuracy\n"
   ]
  },
  {
   "cell_type": "code",
   "execution_count": 11,
   "metadata": {},
   "outputs": [
    {
     "name": "stdout",
     "output_type": "stream",
     "text": [
      "Accuracy of Train Dataset100.0%\n",
      "Accuracy of Test Dataset84.86%\n"
     ]
    }
   ],
   "source": [
    "\n",
    "# This section initializes the parameters for the neural network\n",
    "# w_1, w_2, w_3 are the weights for each layer\n",
    "# b_1, b_2, b_3 are the biases for each layer\n",
    "print(f\"Accuracy of Train Dataset{ Accuaracy(X_tr, Y_tr, paramet)}%\")\n",
    "print(f\"Accuracy of Test Dataset{ round(Accuaracy(X_te, Y_te, paramet), 2)}%\")"
   ]
  },
  {
   "cell_type": "code",
   "execution_count": 12,
   "metadata": {},
   "outputs": [
    {
     "data": {
      "image/png": "[encoded data removed]",
      "text/plain": [
       "<Figure size 640x480 with 1 Axes>"
      ]
     },
     "metadata": {},
     "output_type": "display_data"
    },
    {
     "name": "stdout",
     "output_type": "stream",
     "text": [
      "The prediction is : 0\n"
     ]
    }
   ],
   "source": [
    "\n",
    "# This section initializes the parameters for the neural network\n",
    "# w_1, w_2, w_3 are the weights for each layer\n",
    "# b_1, b_2, b_3 are the biases for each layer\n",
    "idx = int(random.randrange(0,X_tr.shape[1]))\n",
    "plt.imshow(X_tr[:, idx].reshape((28,28)),cmap='gray')\n",
    "plt.show()\n",
    "\n",
    "cache = forward_propagation(X_tr[:, idx].reshape(X_tr[:, idx].shape[0], 1), paramet)\n",
    "a_pred = cache['a_3']  \n",
    "a_pred = np.argmax(a_pred, 0)\n",
    "\n",
    "print(\"The prediction is :\", a_pred[0])"
   ]
  },
  {
   "cell_type": "code",
   "execution_count": 13,
   "metadata": {},
   "outputs": [
    {
     "data": {
      "image/png": "[encoded data removed]",
      "text/plain": [
       "<Figure size 640x480 with 1 Axes>"
      ]
     },
     "metadata": {},
     "output_type": "display_data"
    },
    {
     "name": "stdout",
     "output_type": "stream",
     "text": [
      "The prediction is : 4\n"
     ]
    }
   ],
   "source": [
    "\n",
    "# This section initializes the parameters for the neural network\n",
    "# w_1, w_2, w_3 are the weights for each layer\n",
    "# b_1, b_2, b_3 are the biases for each layer\n",
    "idx = int(random.randrange(0,X_te.shape[1]))\n",
    "plt.imshow(X_te[:, idx].reshape((28,28)),cmap='gray')\n",
    "plt.show()\n",
    "\n",
    "cache = forward_propagation(X_te[:, idx].reshape(X_te[:, idx].shape[0], 1), paramet)\n",
    "a_pred = cache['a_3']  \n",
    "a_pred = np.argmax(a_pred, 0)\n",
    "\n",
    "print(\"The prediction is :\", a_pred[0])"
   ]
  },
  {
   "cell_type": "code",
   "execution_count": 14,
   "metadata": {},
   "outputs": [],
   "source": [
    "\n",
    "# This section initializes the parameters for the neural network\n",
    "# w_1, w_2, w_3 are the weights for each layer\n",
    "# b_1, b_2, b_3 are the biases for each layer\n"
   ]
  },
  {
   "cell_type": "code",
   "execution_count": 15,
   "metadata": {},
   "outputs": [],
   "source": [
    "\n",
    "# This section initializes the parameters for the neural network\n",
    "# w_1, w_2, w_3 are the weights for each layer\n",
    "# b_1, b_2, b_3 are the biases for each layer\n"
   ]
  }
 ],
 "metadata": {
  "kernelspec": {
   "display_name": "Python 3",
   "language": "python",
   "name": "python3"
  },
  "language_info": {
   "codemirror_mode": {
    "name": "ipython",
    "version": 3
   },
   "file_extension": ".py",
   "mimetype": "text/x-python",
   "name": "python",
   "nbconvert_exporter": "python",
   "pygments_lexer": "ipython3",
   "version": "3.12.2"
  }
 },
 "nbformat": 4,
 "nbformat_minor": 2
}
